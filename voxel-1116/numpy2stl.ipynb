{
 "cells": [
  {
   "cell_type": "code",
   "execution_count": 1,
   "id": "fbb4f25a-8584-4441-8721-bc6800fdefff",
   "metadata": {},
   "outputs": [],
   "source": [
    "from voxelfuse.voxel_model import VoxelModel\n",
    "from voxelfuse.mesh import Mesh\n",
    "from voxelfuse.primitives import generateMaterials"
   ]
  },
  {
   "cell_type": "code",
   "execution_count": 6,
   "id": "a69e423f-a09b-4499-a6c5-6070ba35a9b8",
   "metadata": {},
   "outputs": [
    {
     "name": "stderr",
     "output_type": "stream",
     "text": [
      "Finding exterior voxels: 100%|███████████████████████████████████████████████████████████████████| 3/3 [00:00<?, ?it/s]\n",
      "Meshing: 100%|██████████████████████████████████████████████████████████████████████| 16/16 [00:00<00:00, 16039.40it/s]\n"
     ]
    }
   ],
   "source": [
    "if __name__=='__main__':\n",
    "    sponge = [\n",
    "        [\n",
    "            [1, 1, 1],\n",
    "            [1, 0, 1],\n",
    "            [1, 1, 1]\n",
    "        ],\n",
    "        [\n",
    "            [1, 0, 1],\n",
    "            [0, 0, 0],\n",
    "            [1, 0, 1]\n",
    "        ],\n",
    "        [\n",
    "            [1, 0, 1],\n",
    "            [0, 0, 0],\n",
    "            [1, 0, 1]\n",
    "        ]\n",
    "    ]\n",
    "\n",
    "model = VoxelModel(sponge, generateMaterials(4))  #4 is aluminium.\n",
    "mesh = Mesh.fromVoxelModel(model)\n",
    "mesh.export('mesh.stl')"
   ]
  },
  {
   "cell_type": "code",
   "execution_count": null,
   "id": "60990327-cff4-4e17-8cb1-e88d6b049441",
   "metadata": {},
   "outputs": [],
   "source": []
  }
 ],
 "metadata": {
  "kernelspec": {
   "display_name": "Python 3 (ipykernel)",
   "language": "python",
   "name": "python3"
  },
  "language_info": {
   "codemirror_mode": {
    "name": "ipython",
    "version": 3
   },
   "file_extension": ".py",
   "mimetype": "text/x-python",
   "name": "python",
   "nbconvert_exporter": "python",
   "pygments_lexer": "ipython3",
   "version": "3.9.12"
  }
 },
 "nbformat": 4,
 "nbformat_minor": 5
}
