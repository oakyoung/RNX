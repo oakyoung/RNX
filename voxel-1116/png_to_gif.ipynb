{
 "cells": [
  {
   "cell_type": "code",
   "execution_count": null,
   "id": "799efc7d-4617-4f57-a0ee-c5c72883596a",
   "metadata": {},
   "outputs": [],
   "source": [
    "# https://pythonprogramming.altervista.org/png-to-gif/?doing_wp_cron=1668560960.7194669246673583984375"
   ]
  },
  {
   "cell_type": "code",
   "execution_count": null,
   "id": "8a30684e-b771-4f68-b5c9-0d243ad07deb",
   "metadata": {},
   "outputs": [],
   "source": [
    "from PIL import Image\n",
    "import glob"
   ]
  },
  {
   "cell_type": "code",
   "execution_count": null,
   "id": "41d17942-d898-4516-98c7-f0421fe1b9d2",
   "metadata": {},
   "outputs": [],
   "source": [
    "# # Create the frames\n",
    "# frames = []\n",
    "# imgs = glob.glob(\"*.png\")\n",
    "# for i in imgs:\n",
    "#     new_frame = Image.open(i)\n",
    "#     frames.append(new_frame)"
   ]
  },
  {
   "cell_type": "code",
   "execution_count": null,
   "id": "1127c642-87b8-424e-98f3-e9139982d2cf",
   "metadata": {},
   "outputs": [],
   "source": [
    "# len(frames)"
   ]
  },
  {
   "cell_type": "code",
   "execution_count": null,
   "id": "6c61d462-b69a-43f5-a3ff-382c225b9bbc",
   "metadata": {},
   "outputs": [],
   "source": [
    "# Save into a GIF file that loops forever\n",
    "# frames[0].save('png_to_gif.gif', format='GIF',\n",
    "#                append_images=frames[1:],\n",
    "#                save_all=True,\n",
    "#                duration=300, loop=0)"
   ]
  },
  {
   "cell_type": "code",
   "execution_count": null,
   "id": "f5d9b6ee-67e7-4dd3-b9ea-3d7ac218a504",
   "metadata": {},
   "outputs": [],
   "source": []
  },
  {
   "cell_type": "code",
   "execution_count": null,
   "id": "3786ef0b-bfba-4639-98e9-61bd90b7cd24",
   "metadata": {},
   "outputs": [],
   "source": [
    "# https://data-newbie.tistory.com/413"
   ]
  },
  {
   "cell_type": "code",
   "execution_count": null,
   "id": "a58e18fc-4f85-4f39-b1fe-5928402de877",
   "metadata": {},
   "outputs": [],
   "source": [
    "import os\n",
    "import matplotlib.pyplot as plt\n",
    "import numpy as np\n",
    "import imageio\n",
    "from PIL import Image\n",
    "import matplotlib.image as mpimg"
   ]
  },
  {
   "cell_type": "code",
   "execution_count": null,
   "id": "44522cf0-6ecc-4e30-9076-8695296a27e6",
   "metadata": {},
   "outputs": [],
   "source": [
    "filenames = [i for i in os.listdir(save_dir) ] ## 필터링할 때 "
   ]
  },
  {
   "cell_type": "code",
   "execution_count": null,
   "id": "87bb217d-e291-4f6e-b672-2b2043cfbe1e",
   "metadata": {},
   "outputs": [],
   "source": [
    "with imageio.get_writer('./result.gif', mode='I',duration=0.2) as writer:\n",
    "    for filename in filenames:\n",
    "        filename = os.path.join(save_dir , filename)\n",
    "        image = imageio.imread(filename)\n",
    "        writer.append_data(image)"
   ]
  },
  {
   "cell_type": "code",
   "execution_count": null,
   "id": "d0a615f6-89c6-4169-9c91-5d60e560832b",
   "metadata": {},
   "outputs": [],
   "source": []
  }
 ],
 "metadata": {
  "kernelspec": {
   "display_name": "Python 3 (ipykernel)",
   "language": "python",
   "name": "python3"
  },
  "language_info": {
   "codemirror_mode": {
    "name": "ipython",
    "version": 3
   },
   "file_extension": ".py",
   "mimetype": "text/x-python",
   "name": "python",
   "nbconvert_exporter": "python",
   "pygments_lexer": "ipython3",
   "version": "3.9.12"
  }
 },
 "nbformat": 4,
 "nbformat_minor": 5
}
