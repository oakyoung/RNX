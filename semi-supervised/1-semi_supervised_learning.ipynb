{
  "nbformat": 4,
  "nbformat_minor": 0,
  "metadata": {
    "colab": {
      "provenance": []
    },
    "kernelspec": {
      "name": "python3",
      "display_name": "Python 3"
    },
    "language_info": {
      "name": "python"
    }
  },
  "cells": [
    {
      "cell_type": "markdown",
      "source": [
        "### https://sdc-james.gitbook.io/onebook/4.-and/5.1./5.1.3.-mnist-dataset\n"
      ],
      "metadata": {
        "id": "VFKyACaQEaQk"
      }
    },
    {
      "cell_type": "markdown",
      "source": [
        "### Semi-supervised learning\n",
        "### https://scikit-learn.org/stable/auto_examples/semi_supervised/plot_label_propagation_digits.html#sphx-glr-auto-examples-semi-supervised-plot-label-propagation-digits-py\n"
      ],
      "metadata": {
        "id": "rDrckWLhO81U"
      }
    },
    {
      "cell_type": "code",
      "execution_count": null,
      "metadata": {
        "id": "NIahRVprO78-"
      },
      "outputs": [],
      "source": [
        "from sklearn import datasets\n",
        "import numpy as np\n",
        "\n",
        "digits = datasets.load_digits()\n",
        "rng = np.random.RandomState(2)\n",
        "indices = np.arange(len(digits.data))\n",
        "rng.shuffle(indices)"
      ]
    },
    {
      "cell_type": "code",
      "source": [
        "X = digits.data[indices[:340]]\n",
        "y = digits.target[indices[:340]]\n",
        "images = digits.images[indices[:340]]\n",
        "\n",
        "n_total_samples = len(y)\n",
        "n_labeled_points = 40\n",
        "\n",
        "indices = np.arange(n_total_samples)\n",
        "\n",
        "unlabeled_set = indices[n_labeled_points:]"
      ],
      "metadata": {
        "id": "roQRIZYSPIn-"
      },
      "execution_count": null,
      "outputs": []
    },
    {
      "cell_type": "code",
      "source": [
        "y_train = np.copy(y)\n",
        "y_train[unlabeled_set] = -1"
      ],
      "metadata": {
        "id": "EaQbYCpcPLPF"
      },
      "execution_count": null,
      "outputs": []
    },
    {
      "cell_type": "code",
      "source": [
        "from sklearn.semi_supervised import LabelSpreading\n",
        "from sklearn.metrics import classification_report\n",
        "\n",
        "lp_model = LabelSpreading(gamma=0.25, max_iter=20)\n",
        "lp_model.fit(X, y_train)\n",
        "predicted_labels = lp_model.transduction_[unlabeled_set]\n",
        "true_labels = y[unlabeled_set]\n",
        "\n",
        "print(\n",
        "    \"Label Spreading model: %d labeled & %d unlabeled points (%d total)\"\n",
        "    % (n_labeled_points, n_total_samples - n_labeled_points, n_total_samples)\n",
        ")"
      ],
      "metadata": {
        "colab": {
          "base_uri": "https://localhost:8080/"
        },
        "id": "8b2LxysJPOb7",
        "outputId": "7927c951-6f91-480b-b067-97dd5af76615"
      },
      "execution_count": null,
      "outputs": [
        {
          "output_type": "stream",
          "name": "stdout",
          "text": [
            "Label Spreading model: 40 labeled & 300 unlabeled points (340 total)\n"
          ]
        }
      ]
    },
    {
      "cell_type": "code",
      "source": [
        "print(classification_report(true_labels, predicted_labels))"
      ],
      "metadata": {
        "colab": {
          "base_uri": "https://localhost:8080/"
        },
        "id": "E9tKhrBkPR4H",
        "outputId": "862b5625-99c3-426f-e95c-e27b331e6996"
      },
      "execution_count": null,
      "outputs": [
        {
          "output_type": "stream",
          "name": "stdout",
          "text": [
            "              precision    recall  f1-score   support\n",
            "\n",
            "           0       1.00      1.00      1.00        27\n",
            "           1       0.82      1.00      0.90        37\n",
            "           2       1.00      0.86      0.92        28\n",
            "           3       1.00      0.80      0.89        35\n",
            "           4       0.92      1.00      0.96        24\n",
            "           5       0.74      0.94      0.83        34\n",
            "           6       0.89      0.96      0.92        25\n",
            "           7       0.94      0.89      0.91        35\n",
            "           8       1.00      0.68      0.81        31\n",
            "           9       0.81      0.88      0.84        24\n",
            "\n",
            "    accuracy                           0.90       300\n",
            "   macro avg       0.91      0.90      0.90       300\n",
            "weighted avg       0.91      0.90      0.90       300\n",
            "\n"
          ]
        }
      ]
    },
    {
      "cell_type": "code",
      "source": [
        "from sklearn.metrics import ConfusionMatrixDisplay\n",
        "\n",
        "ConfusionMatrixDisplay.from_predictions(\n",
        "    true_labels, predicted_labels, labels=lp_model.classes_\n",
        ")"
      ],
      "metadata": {
        "colab": {
          "base_uri": "https://localhost:8080/",
          "height": 297
        },
        "id": "2h-5kTbPPXBx",
        "outputId": "f9fd14d6-1388-4e8f-9ea5-a02607d8cd84"
      },
      "execution_count": null,
      "outputs": [
        {
          "output_type": "execute_result",
          "data": {
            "text/plain": [
              "<sklearn.metrics._plot.confusion_matrix.ConfusionMatrixDisplay at 0x7f04929bca90>"
            ]
          },
          "metadata": {},
          "execution_count": 6
        },
        {
          "output_type": "display_data",
          "data": {
            "text/plain": [
              "<Figure size 432x288 with 2 Axes>"
            ],
            "image/png": "[encoded data removed]"
          },
          "metadata": {
            "needs_background": "light"
          }
        }
      ]
    },
    {
      "cell_type": "code",
      "source": [
        "from scipy import stats\n",
        "\n",
        "pred_entropies = stats.distributions.entropy(lp_model.label_distributions_.T)"
      ],
      "metadata": {
        "id": "BzrEdQHaPbi4"
      },
      "execution_count": null,
      "outputs": []
    },
    {
      "cell_type": "code",
      "source": [
        "uncertainty_index = np.argsort(pred_entropies)[-10:]"
      ],
      "metadata": {
        "id": "N3BFE8M-PeFS"
      },
      "execution_count": null,
      "outputs": []
    },
    {
      "cell_type": "code",
      "source": [
        "import matplotlib.pyplot as plt\n",
        "\n",
        "f = plt.figure(figsize=(7, 5))\n",
        "for index, image_index in enumerate(uncertainty_index):\n",
        "    image = images[image_index]\n",
        "\n",
        "    sub = f.add_subplot(2, 5, index + 1)\n",
        "    sub.imshow(image, cmap=plt.cm.gray_r)\n",
        "    plt.xticks([])\n",
        "    plt.yticks([])\n",
        "    sub.set_title(\n",
        "        \"predict: %i\\ntrue: %i\" % (lp_model.transduction_[image_index], y[image_index])\n",
        "    )\n",
        "\n",
        "f.suptitle(\"Learning with small amount of labeled data\")\n",
        "plt.show()"
      ],
      "metadata": {
        "colab": {
          "base_uri": "https://localhost:8080/",
          "height": 314
        },
        "id": "lmi3nNv6PfV7",
        "outputId": "c8f1e0d4-020f-4ef8-a216-607776937799"
      },
      "execution_count": null,
      "outputs": [
        {
          "output_type": "display_data",
          "data": {
            "text/plain": [
              "<Figure size 504x360 with 10 Axes>"
            ],
            "image/png": "[encoded data removed]"
          },
          "metadata": {}
        }
      ]
    }
  ]
}