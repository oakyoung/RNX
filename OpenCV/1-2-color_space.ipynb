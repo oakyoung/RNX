{
 "cells": [
  {
   "cell_type": "code",
   "execution_count": null,
   "id": "20faf56e",
   "metadata": {},
   "outputs": [],
   "source": []
  },
  {
   "cell_type": "code",
   "execution_count": 1,
   "id": "3d24585f",
   "metadata": {},
   "outputs": [],
   "source": [
    "import cv2\n",
    "import numpy as np\n",
    "\n",
    "bright = cv2.imread('.\\\\images\\\\banana1.jpg')\n",
    "dark = cv2.imread('.\\\\images\\\\banana2.jpg')\n",
    "\n",
    "# The LAB Color-Space\n",
    "# L – Lightness ( Intensity ).\n",
    "# a – color component ranging from Green to Magenta.\n",
    "# b – color component ranging from Blue to Yellow.\n",
    "\n",
    "brightLAB = cv2.cvtColor(bright, cv2.COLOR_BGR2LAB)\n",
    "darkLAB = cv2.cvtColor(dark, cv2.COLOR_BGR2LAB)\n",
    "\n",
    "# The YCrCb Color-Space\n",
    "# Y – Luminance or Luma component obtained from RGB after gamma correction.\n",
    "# Cr = R – Y ( how far is the red component from Luma ).\n",
    "# Cb = B – Y ( how far is the blue component from Luma ).\n",
    "\n",
    "brightYCB = cv2.cvtColor(bright, cv2.COLOR_BGR2YCrCb)\n",
    "darkYCB = cv2.cvtColor(dark, cv2.COLOR_BGR2YCrCb)\n",
    "\n",
    "# The HSV Color Space\n",
    "# H – Hue ( Dominant Wavelength ).\n",
    "# S – Saturation ( Purity / shades of the color ).\n",
    "# V – Value ( Intensity ).\n",
    "\n",
    "brightHSV = cv2.cvtColor(bright, cv2.COLOR_BGR2HSV)\n",
    "darkHSV = cv2.cvtColor(dark, cv2.COLOR_BGR2HSV)\n",
    "\n",
    "cv2.imshow('Banana Image 1', brightLAB)\n",
    "cv2.imshow('Banana Image 2', darkLAB)\n",
    "\n",
    "cv2.imshow('Banana Image 3', brightYCB)\n",
    "cv2.imshow('Banana Image 4', darkYCB)\n",
    "\n",
    "cv2.imshow('Banana Image 5', brightHSV)\n",
    "cv2.imshow('Banana Image 6', darkHSV)\n",
    "\n",
    "\n",
    "cv2.waitKey(0)\n",
    "cv2.destroyAllWindows()"
   ]
  },
  {
   "cell_type": "code",
   "execution_count": null,
   "id": "b78c1305",
   "metadata": {},
   "outputs": [],
   "source": []
  }
 ],
 "metadata": {
  "kernelspec": {
   "display_name": "Python KOSA",
   "language": "python",
   "name": "kosa"
  },
  "language_info": {
   "codemirror_mode": {
    "name": "ipython",
    "version": 3
   },
   "file_extension": ".py",
   "mimetype": "text/x-python",
   "name": "python",
   "nbconvert_exporter": "python",
   "pygments_lexer": "ipython3",
   "version": "3.8.3"
  }
 },
 "nbformat": 4,
 "nbformat_minor": 5
}
