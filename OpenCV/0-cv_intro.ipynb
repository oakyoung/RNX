{
 "cells": [
  {
   "cell_type": "markdown",
   "id": "thrown-collective",
   "metadata": {
    "id": "thrown-collective"
   },
   "source": [
    "### OpenCV - Code snippets\n",
    "\n",
    "### By Joo Soo Jeong / Ph.D\n",
    "\n",
    "### https://github.com/JSJeong-me/KOSA-Vision\n",
    "\n",
    "### email: heinem@naver.com\n",
    "\n",
    "###  Copyrights 2021"
   ]
  },
  {
   "cell_type": "markdown",
   "id": "bridal-manual",
   "metadata": {
    "id": "bridal-manual"
   },
   "source": [
    "![Computer-vision-tasks-Adapted-from.png](attachment:d59cb896-f21f-4a6b-a8a3-74c696d1584d.png)"
   ]
  },
  {
   "cell_type": "markdown",
   "id": "final-conservation",
   "metadata": {
    "id": "final-conservation"
   },
   "source": [
    "### !pip install opencv-python==4.4.0.46"
   ]
  },
  {
   "cell_type": "markdown",
   "id": "allied-plumbing",
   "metadata": {
    "id": "allied-plumbing"
   },
   "source": [
    "### Image reads and wirtes"
   ]
  },
  {
   "cell_type": "code",
   "execution_count": null,
   "id": "mediterranean-airline",
   "metadata": {
    "id": "mediterranean-airline"
   },
   "outputs": [],
   "source": [
    "import cv2\n",
    "import platform\n",
    "from google.colab.patches import cv2_imshow"
   ]
  },
  {
   "cell_type": "code",
   "execution_count": null,
   "id": "vertical-charles",
   "metadata": {
    "id": "vertical-charles"
   },
   "outputs": [],
   "source": [
    "print('OpenCV version: {}'.format(cv2.__version__))\n",
    "print('Python version: {}'.format(platform.python_version()))"
   ]
  },
  {
   "cell_type": "code",
   "execution_count": null,
   "id": "applicable-domain",
   "metadata": {
    "id": "applicable-domain"
   },
   "outputs": [],
   "source": []
  },
  {
   "cell_type": "code",
   "execution_count": null,
   "id": "victorian-breakdown",
   "metadata": {
    "id": "victorian-breakdown"
   },
   "outputs": [],
   "source": [
    "src = cv2.imread('./giraffe.jpg')"
   ]
  },
  {
   "cell_type": "code",
   "execution_count": null,
   "id": "peripheral-canberra",
   "metadata": {
    "id": "peripheral-canberra"
   },
   "outputs": [],
   "source": [
    "flipped = cv2.flip(src, -1)"
   ]
  },
  {
   "cell_type": "code",
   "execution_count": null,
   "id": "0hvjtQf6dgLY",
   "metadata": {
    "id": "0hvjtQf6dgLY"
   },
   "outputs": [],
   "source": [
    "cv2_imshow(src)"
   ]
  },
  {
   "cell_type": "code",
   "execution_count": null,
   "id": "gzfZFZmtdmzI",
   "metadata": {
    "id": "gzfZFZmtdmzI"
   },
   "outputs": [],
   "source": [
    "cv2_imshow(flipped)"
   ]
  },
  {
   "cell_type": "code",
   "execution_count": null,
   "id": "absolute-fountain",
   "metadata": {
    "id": "absolute-fountain"
   },
   "outputs": [],
   "source": [
    "#cv2.imshow('Image', src)\n",
    "#cv2.imshow('Image flipped', flipped)\n",
    "cv2.imwrite('./flipped_giraffe.jpg', flipped)\n",
    "# cv2.waitKey(0) # 0 forever \n",
    "# cv2.destroyAllWindows()"
   ]
  },
  {
   "cell_type": "code",
   "execution_count": null,
   "id": "understanding-binding",
   "metadata": {
    "id": "understanding-binding"
   },
   "outputs": [],
   "source": []
  },
  {
   "cell_type": "code",
   "execution_count": null,
   "id": "violent-figure",
   "metadata": {
    "id": "violent-figure"
   },
   "outputs": [],
   "source": []
  },
  {
   "cell_type": "markdown",
   "id": "spanish-facing",
   "metadata": {
    "id": "spanish-facing"
   },
   "source": [
    "### Video reads and frame sampling rates controll"
   ]
  },
  {
   "cell_type": "code",
   "execution_count": 1,
   "id": "female-production",
   "metadata": {
    "id": "female-production"
   },
   "outputs": [],
   "source": [
    "import time\n",
    "import cv2"
   ]
  },
  {
   "cell_type": "code",
   "execution_count": 2,
   "id": "front-arcade",
   "metadata": {
    "id": "front-arcade"
   },
   "outputs": [],
   "source": [
    "# 0: Webcam or video mp4, avi etc.imput files\n",
    "#cap = cv2.VideoCapture(0)\n",
    "cap = cv2.VideoCapture('label01.mp4')"
   ]
  },
  {
   "cell_type": "code",
   "execution_count": 3,
   "id": "worst-worry",
   "metadata": {
    "id": "worst-worry"
   },
   "outputs": [
    {
     "name": "stdout",
     "output_type": "stream",
     "text": [
      "Frame width:  1080\n",
      "Frame height: 1920\n",
      "Frame count:  351\n",
      "FPS:          030\n"
     ]
    }
   ],
   "source": [
    "# Image resolution, image width & height frame cpunts & frame rates \n",
    "print('Frame width:  {0:03d}'.format(round(cap.get(cv2.CAP_PROP_FRAME_WIDTH))))\n",
    "print('Frame height: {0:03d}'.format(round(cap.get(cv2.CAP_PROP_FRAME_HEIGHT))))\n",
    "print('Frame count:  {0:03d}'.format(round(cap.get(cv2.CAP_PROP_FRAME_COUNT))))\n",
    "\n",
    "fps = round(cap.get(cv2.CAP_PROP_FPS))\n",
    "print('FPS:          {0:03d}'.format(fps))"
   ]
  },
  {
   "cell_type": "code",
   "execution_count": 4,
   "id": "sound-massage",
   "metadata": {
    "id": "sound-massage"
   },
   "outputs": [],
   "source": [
    "prev_time = 0\n",
    "FPS = 1"
   ]
  },
  {
   "cell_type": "code",
   "execution_count": 5,
   "id": "strategic-promise",
   "metadata": {
    "id": "strategic-promise"
   },
   "outputs": [],
   "source": [
    "while True:\n",
    "    ret, frame = cap.read()\n",
    "\n",
    "    if not ret:\n",
    "        break\n",
    "        \n",
    "    frame = cv2.resize(frame, (0, 0), fx=0.5, fy=0.5)\n",
    "    \n",
    "    current_time = time.time() - prev_time\n",
    "\n",
    "    if (ret is True) and (current_time > 1./ FPS):\n",
    "        prev_time = time.time()\n",
    "     \n",
    "        cv2.imshow('frame', frame)\n",
    "        # imageFile='lable2_{0}.png'.format(current_time)\n",
    "        # cv2.imwrite(imageFile, frame)\n",
    "\n",
    "    if cv2.waitKey(10) == 27:\n",
    "        break\n",
    "\n",
    "cap.release()\n",
    "cv2.destroyAllWindows()"
   ]
  },
  {
   "cell_type": "code",
   "execution_count": null,
   "id": "anonymous-canvas",
   "metadata": {
    "id": "anonymous-canvas"
   },
   "outputs": [],
   "source": []
  }
 ],
 "metadata": {
  "colab": {
   "name": "1-cv_intro.ipynb",
   "provenance": []
  },
  "kernelspec": {
   "display_name": "Python 3 (ipykernel)",
   "language": "python",
   "name": "python3"
  },
  "language_info": {
   "codemirror_mode": {
    "name": "ipython",
    "version": 3
   },
   "file_extension": ".py",
   "mimetype": "text/x-python",
   "name": "python",
   "nbconvert_exporter": "python",
   "pygments_lexer": "ipython3",
   "version": "3.9.12"
  }
 },
 "nbformat": 4,
 "nbformat_minor": 5
}
