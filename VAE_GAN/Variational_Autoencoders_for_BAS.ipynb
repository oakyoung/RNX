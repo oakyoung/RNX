{
  "cells": [
    {
      "cell_type": "code",
      "execution_count": 1,
      "metadata": {
        "id": "DyjIcCMVQxIY"
      },
      "outputs": [],
      "source": [
        "'''This code contains the implementation of simple VAE\n",
        "Refer to the blog post here: https://graviraja.github.io/vanillavae/\n",
        "'''\n",
        "'''\n",
        "This is a modified version of the above code to generate Bars and Stripes patterns.\n",
        "'''\n",
        "import torch\n",
        "import torch.nn as nn\n",
        "import torch.nn.functional as F\n",
        "import torch.optim as optim\n",
        "\n",
        "from torch.utils.data import DataLoader\n",
        "from torchvision import datasets, transforms\n",
        "\n",
        "import matplotlib.pyplot as plt\n",
        "\n",
        "import numpy as np\n",
        "\n",
        "device = torch.device('cuda' if torch.cuda.is_available() else 'cpu')"
      ]
    },
    {
      "cell_type": "code",
      "execution_count": 2,
      "metadata": {
        "id": "8UpUKITTQxIb"
      },
      "outputs": [],
      "source": [
        "# Dimensions of bars and stripes\n",
        "m = 10\n",
        "n = 10\n",
        "\n",
        "BATCH_SIZE = 64         # number of data points in each batch\n",
        "N_EPOCHS = 100           # times to run the model on complete data\n",
        "INPUT_DIM = m*n     # size of each input\n",
        "HIDDEN_DIM = 64        # hidden dimension\n",
        "LATENT_DIM = 16         # latent vector dimension\n",
        "lr = 1e-3               # learning rate"
      ]
    },
    {
      "cell_type": "code",
      "execution_count": 3,
      "metadata": {
        "colab": {
          "base_uri": "https://localhost:8080/"
        },
        "id": "KTEvVnX3QxIc",
        "outputId": "08c3873f-7daa-4acd-8fd1-48309dcc54b7"
      },
      "outputs": [
        {
          "output_type": "execute_result",
          "data": {
            "text/plain": [
              "torch.Size([2046, 1, 10, 10])"
            ]
          },
          "metadata": {},
          "execution_count": 3
        }
      ],
      "source": [
        "import itertools\n",
        "def bars_and_stripes(rows, cols):\n",
        "    \n",
        "    data = [] \n",
        "    \n",
        "    for h in itertools.product([0,1], repeat=cols):\n",
        "        pic = np.repeat([h], rows, 0)\n",
        "        data.append(pic.ravel().tolist())\n",
        "          \n",
        "    for h in itertools.product([0,1], repeat=rows):\n",
        "        pic = np.repeat([h], cols, 1)\n",
        "        data.append(pic.ravel().tolist())\n",
        "    \n",
        "    data = np.unique(np.asarray(data), axis=0)\n",
        "    \n",
        "    return data\n",
        "\n",
        "bas = np.array(bars_and_stripes(m,n)).astype(np.float32).reshape(-1, 1, m, n)\n",
        "train_dataset = torch.from_numpy(bas)\n",
        "train_dataset.shape"
      ]
    },
    {
      "cell_type": "code",
      "execution_count": 4,
      "metadata": {
        "id": "CzF9qV7ZQxId"
      },
      "outputs": [],
      "source": [
        "class Encoder(nn.Module):\n",
        "    ''' This the encoder part of VAE\n",
        "    '''\n",
        "    def __init__(self, input_dim, hidden_dim, z_dim):\n",
        "        '''\n",
        "        Args:\n",
        "            input_dim: A integer indicating the size of input (in case of MNIST 28 * 28).\n",
        "            hidden_dim: A integer indicating the size of hidden dimension.\n",
        "            z_dim: A integer indicating the latent dimension.\n",
        "        '''\n",
        "        super().__init__()\n",
        "\n",
        "        self.linear = nn.Linear(input_dim, hidden_dim)\n",
        "        self.mu = nn.Linear(hidden_dim, z_dim)\n",
        "        self.var = nn.Linear(hidden_dim, z_dim)\n",
        "\n",
        "    def forward(self, x):\n",
        "        # x is of shape [batch_size, input_dim]\n",
        "\n",
        "        hidden = F.relu(self.linear(x))\n",
        "        # hidden is of shape [batch_size, hidden_dim]\n",
        "        z_mu = self.mu(hidden)\n",
        "        # z_mu is of shape [batch_size, latent_dim]\n",
        "        z_var = self.var(hidden)\n",
        "        # z_var is of shape [batch_size, latent_dim]\n",
        "\n",
        "        return z_mu, z_var"
      ]
    },
    {
      "cell_type": "code",
      "execution_count": 5,
      "metadata": {
        "id": "vLuc3eD8QxIe"
      },
      "outputs": [],
      "source": [
        "class Decoder(nn.Module):\n",
        "    ''' This the decoder part of VAE\n",
        "    '''\n",
        "    def __init__(self, z_dim, hidden_dim, output_dim):\n",
        "        '''\n",
        "        Args:\n",
        "            z_dim: A integer indicating the latent size.\n",
        "            hidden_dim: A integer indicating the size of hidden dimension.\n",
        "            output_dim: A integer indicating the output dimension (in case of MNIST it is 28 * 28)\n",
        "        '''\n",
        "        super().__init__()\n",
        "\n",
        "        self.linear = nn.Linear(z_dim, hidden_dim)\n",
        "        self.out = nn.Linear(hidden_dim, output_dim)\n",
        "\n",
        "    def forward(self, x):\n",
        "        # x is of shape [batch_size, latent_dim]\n",
        "\n",
        "        hidden = F.relu(self.linear(x))\n",
        "        # hidden is of shape [batch_size, hidden_dim]\n",
        "\n",
        "        predicted = torch.sigmoid(self.out(hidden))\n",
        "        # predicted is of shape [batch_size, output_dim]\n",
        "        return predicted"
      ]
    },
    {
      "cell_type": "code",
      "execution_count": 6,
      "metadata": {
        "id": "twnJx69-QxIf"
      },
      "outputs": [],
      "source": [
        "class VAE(nn.Module):\n",
        "    def __init__(self, enc, dec):\n",
        "        ''' This the VAE, which takes a encoder and decoder.\n",
        "        '''\n",
        "        super().__init__()\n",
        "\n",
        "        self.enc = enc\n",
        "        self.dec = dec\n",
        "\n",
        "    def forward(self, x):\n",
        "        # encode\n",
        "        z_mu, z_var = self.enc(x)\n",
        "\n",
        "        # sample from the distribution having latent parameters z_mu, z_var\n",
        "        # reparameterize\n",
        "        std = torch.exp(z_var / 2)\n",
        "        eps = torch.randn_like(std)\n",
        "        x_sample = eps.mul(std).add_(z_mu)\n",
        "\n",
        "        # decode\n",
        "        predicted = self.dec(x_sample)\n",
        "        return predicted, z_mu, z_var"
      ]
    },
    {
      "cell_type": "code",
      "execution_count": 7,
      "metadata": {
        "id": "pGYgpo7jQxIg"
      },
      "outputs": [],
      "source": [
        "# encoder\n",
        "encoder = Encoder(INPUT_DIM, HIDDEN_DIM, LATENT_DIM)\n",
        "\n",
        "# decoder\n",
        "decoder = Decoder(LATENT_DIM, HIDDEN_DIM, INPUT_DIM)\n",
        "\n",
        "# vae\n",
        "model = VAE(encoder, decoder).to(device)\n",
        "\n",
        "# optimizer\n",
        "optimizer = optim.Adam(model.parameters(), lr=lr)"
      ]
    },
    {
      "cell_type": "code",
      "execution_count": 8,
      "metadata": {
        "id": "IuolAzcOQxIh"
      },
      "outputs": [],
      "source": [
        "def train():\n",
        "    # set the train mode\n",
        "    model.train()\n",
        "\n",
        "    # loss of the epoch\n",
        "    train_loss = 0\n",
        "\n",
        "    for x in train_dataset:\n",
        "        # reshape the data into [batch_size, 784]\n",
        "        x = x.view(-1, m*n)\n",
        "        x = x.to(device)\n",
        "\n",
        "        # update the gradients to zero\n",
        "        optimizer.zero_grad()\n",
        "\n",
        "        # forward pass\n",
        "        x_sample, z_mu, z_var = model(x)\n",
        "\n",
        "        # reconstruction loss\n",
        "        recon_loss = F.binary_cross_entropy(x_sample, x, size_average=False)\n",
        "\n",
        "        # kl divergence loss\n",
        "        kl_loss = 0.5 * torch.sum(torch.exp(z_var) + z_mu**2 - 1.0 - z_var)\n",
        "\n",
        "        # total loss\n",
        "        loss = recon_loss + kl_loss\n",
        "\n",
        "        # backward pass\n",
        "        loss.backward()\n",
        "        train_loss += loss.item()\n",
        "\n",
        "        # update the weights\n",
        "        optimizer.step()\n",
        "\n",
        "    return train_loss\n",
        "\n",
        "def test():\n",
        "    # set the evaluation mode\n",
        "    model.eval()\n",
        "\n",
        "    # test loss for the data\n",
        "    test_loss = 0\n",
        "\n",
        "    # we don't need to track the gradients, since we are not updating the parameters during evaluation / testing\n",
        "    with torch.no_grad():\n",
        "        for i, (x, _) in enumerate(test_iterator):\n",
        "            # reshape the data\n",
        "            x = x.view(-1, 28 * 28)\n",
        "            x = x.to(device)\n",
        "\n",
        "            # forward pass\n",
        "            x_sample, z_mu, z_var = model(x)\n",
        "\n",
        "            # reconstruction loss\n",
        "            recon_loss = F.binary_cross_entropy(x_sample, x, size_average=False)\n",
        "\n",
        "            # kl divergence loss\n",
        "            kl_loss = 0.5 * torch.sum(torch.exp(z_var) + z_mu**2 - 1.0 - z_var)\n",
        "\n",
        "            # total loss\n",
        "            loss = recon_loss + kl_loss\n",
        "            test_loss += loss.item()\n",
        "\n",
        "    return test_loss"
      ]
    },
    {
      "cell_type": "code",
      "execution_count": 9,
      "metadata": {
        "colab": {
          "base_uri": "https://localhost:8080/",
          "height": 1000
        },
        "id": "GnKDwX2pQxIh",
        "outputId": "857cc1a8-638f-46b6-f16d-456a5a1ccdc1"
      },
      "outputs": [
        {
          "output_type": "stream",
          "name": "stderr",
          "text": [
            "/usr/local/lib/python3.7/dist-packages/torch/nn/_reduction.py:42: UserWarning: size_average and reduce args will be deprecated, please use reduction='sum' instead.\n",
            "  warnings.warn(warning.format(ret))\n"
          ]
        },
        {
          "output_type": "stream",
          "name": "stdout",
          "text": [
            "Epoch 0, Train Loss: 65.83\n",
            "Epoch 1, Train Loss: 64.56\n",
            "Epoch 2, Train Loss: 59.34\n",
            "Epoch 3, Train Loss: 53.56\n",
            "Epoch 4, Train Loss: 47.92\n",
            "Epoch 5, Train Loss: 43.91\n",
            "Epoch 6, Train Loss: 38.98\n",
            "Epoch 7, Train Loss: 34.69\n",
            "Epoch 8, Train Loss: 30.78\n",
            "Epoch 9, Train Loss: 27.24\n",
            "Epoch 10, Train Loss: 24.78\n",
            "Epoch 11, Train Loss: 23.72\n",
            "Epoch 12, Train Loss: 21.46\n",
            "Epoch 13, Train Loss: 20.40\n",
            "Epoch 14, Train Loss: 20.20\n",
            "Epoch 15, Train Loss: 19.67\n",
            "Epoch 16, Train Loss: 19.46\n",
            "Epoch 17, Train Loss: 19.47\n",
            "Epoch 18, Train Loss: 18.78\n",
            "Epoch 19, Train Loss: 18.61\n",
            "Epoch 20, Train Loss: 18.45\n",
            "Epoch 21, Train Loss: 18.56\n",
            "Epoch 22, Train Loss: 18.22\n",
            "Epoch 23, Train Loss: 18.12\n",
            "Epoch 24, Train Loss: 18.11\n",
            "Epoch 25, Train Loss: 17.96\n",
            "Epoch 26, Train Loss: 17.88\n",
            "Epoch 27, Train Loss: 17.76\n",
            "Epoch 28, Train Loss: 17.87\n",
            "Epoch 29, Train Loss: 17.66\n",
            "Epoch 30, Train Loss: 18.02\n",
            "Epoch 31, Train Loss: 17.91\n",
            "Epoch 32, Train Loss: 17.53\n",
            "Epoch 33, Train Loss: 17.46\n",
            "Epoch 34, Train Loss: 17.53\n",
            "Epoch 35, Train Loss: 17.73\n",
            "Epoch 36, Train Loss: 17.30\n",
            "Epoch 37, Train Loss: 17.53\n",
            "Epoch 38, Train Loss: 17.07\n",
            "Epoch 39, Train Loss: 17.16\n",
            "Epoch 40, Train Loss: 16.96\n",
            "Epoch 41, Train Loss: 17.57\n",
            "Epoch 42, Train Loss: 17.36\n",
            "Epoch 43, Train Loss: 17.17\n",
            "Epoch 44, Train Loss: 16.79\n",
            "Epoch 45, Train Loss: 17.37\n",
            "Epoch 46, Train Loss: 17.02\n",
            "Epoch 47, Train Loss: 17.03\n",
            "Epoch 48, Train Loss: 16.97\n",
            "Epoch 49, Train Loss: 16.99\n",
            "Epoch 50, Train Loss: 17.47\n",
            "Epoch 51, Train Loss: 16.76\n",
            "Epoch 52, Train Loss: 16.94\n",
            "Epoch 53, Train Loss: 16.69\n",
            "Epoch 54, Train Loss: 16.84\n",
            "Epoch 55, Train Loss: 16.73\n",
            "Epoch 56, Train Loss: 16.59\n",
            "Epoch 57, Train Loss: 16.98\n",
            "Epoch 58, Train Loss: 16.74\n",
            "Epoch 59, Train Loss: 16.60\n",
            "Epoch 60, Train Loss: 16.29\n",
            "Epoch 61, Train Loss: 16.74\n",
            "Epoch 62, Train Loss: 16.86\n",
            "Epoch 63, Train Loss: 16.32\n",
            "Epoch 64, Train Loss: 16.96\n",
            "Epoch 65, Train Loss: 16.50\n"
          ]
        },
        {
          "output_type": "error",
          "ename": "KeyboardInterrupt",
          "evalue": "ignored",
          "traceback": [
            "\u001b[0;31m---------------------------------------------------------------------------\u001b[0m",
            "\u001b[0;31mKeyboardInterrupt\u001b[0m                         Traceback (most recent call last)",
            "\u001b[0;32m<ipython-input-9-8979c23add0c>\u001b[0m in \u001b[0;36m<module>\u001b[0;34m\u001b[0m\n\u001b[1;32m      3\u001b[0m \u001b[0;32mfor\u001b[0m \u001b[0me\u001b[0m \u001b[0;32min\u001b[0m \u001b[0mrange\u001b[0m\u001b[0;34m(\u001b[0m\u001b[0mN_EPOCHS\u001b[0m\u001b[0;34m)\u001b[0m\u001b[0;34m:\u001b[0m\u001b[0;34m\u001b[0m\u001b[0;34m\u001b[0m\u001b[0m\n\u001b[1;32m      4\u001b[0m \u001b[0;34m\u001b[0m\u001b[0m\n\u001b[0;32m----> 5\u001b[0;31m     \u001b[0mtrain_loss\u001b[0m \u001b[0;34m=\u001b[0m \u001b[0mtrain\u001b[0m\u001b[0;34m(\u001b[0m\u001b[0;34m)\u001b[0m\u001b[0;34m\u001b[0m\u001b[0;34m\u001b[0m\u001b[0m\n\u001b[0m\u001b[1;32m      6\u001b[0m     \u001b[0;31m#test_loss = test()\u001b[0m\u001b[0;34m\u001b[0m\u001b[0;34m\u001b[0m\u001b[0;34m\u001b[0m\u001b[0m\n\u001b[1;32m      7\u001b[0m \u001b[0;34m\u001b[0m\u001b[0m\n",
            "\u001b[0;32m<ipython-input-8-cae790491073>\u001b[0m in \u001b[0;36mtrain\u001b[0;34m()\u001b[0m\n\u001b[1;32m     31\u001b[0m \u001b[0;34m\u001b[0m\u001b[0m\n\u001b[1;32m     32\u001b[0m         \u001b[0;31m# update the weights\u001b[0m\u001b[0;34m\u001b[0m\u001b[0;34m\u001b[0m\u001b[0;34m\u001b[0m\u001b[0m\n\u001b[0;32m---> 33\u001b[0;31m         \u001b[0moptimizer\u001b[0m\u001b[0;34m.\u001b[0m\u001b[0mstep\u001b[0m\u001b[0;34m(\u001b[0m\u001b[0;34m)\u001b[0m\u001b[0;34m\u001b[0m\u001b[0;34m\u001b[0m\u001b[0m\n\u001b[0m\u001b[1;32m     34\u001b[0m \u001b[0;34m\u001b[0m\u001b[0m\n\u001b[1;32m     35\u001b[0m     \u001b[0;32mreturn\u001b[0m \u001b[0mtrain_loss\u001b[0m\u001b[0;34m\u001b[0m\u001b[0;34m\u001b[0m\u001b[0m\n",
            "\u001b[0;32m/usr/local/lib/python3.7/dist-packages/torch/optim/optimizer.py\u001b[0m in \u001b[0;36mwrapper\u001b[0;34m(*args, **kwargs)\u001b[0m\n\u001b[1;32m    111\u001b[0m                 \u001b[0mprofile_name\u001b[0m \u001b[0;34m=\u001b[0m \u001b[0;34m\"Optimizer.step#{}.step\"\u001b[0m\u001b[0;34m.\u001b[0m\u001b[0mformat\u001b[0m\u001b[0;34m(\u001b[0m\u001b[0mobj\u001b[0m\u001b[0;34m.\u001b[0m\u001b[0m__class__\u001b[0m\u001b[0;34m.\u001b[0m\u001b[0m__name__\u001b[0m\u001b[0;34m)\u001b[0m\u001b[0;34m\u001b[0m\u001b[0;34m\u001b[0m\u001b[0m\n\u001b[1;32m    112\u001b[0m                 \u001b[0;32mwith\u001b[0m \u001b[0mtorch\u001b[0m\u001b[0;34m.\u001b[0m\u001b[0mautograd\u001b[0m\u001b[0;34m.\u001b[0m\u001b[0mprofiler\u001b[0m\u001b[0;34m.\u001b[0m\u001b[0mrecord_function\u001b[0m\u001b[0;34m(\u001b[0m\u001b[0mprofile_name\u001b[0m\u001b[0;34m)\u001b[0m\u001b[0;34m:\u001b[0m\u001b[0;34m\u001b[0m\u001b[0;34m\u001b[0m\u001b[0m\n\u001b[0;32m--> 113\u001b[0;31m                     \u001b[0;32mreturn\u001b[0m \u001b[0mfunc\u001b[0m\u001b[0;34m(\u001b[0m\u001b[0;34m*\u001b[0m\u001b[0margs\u001b[0m\u001b[0;34m,\u001b[0m \u001b[0;34m**\u001b[0m\u001b[0mkwargs\u001b[0m\u001b[0;34m)\u001b[0m\u001b[0;34m\u001b[0m\u001b[0;34m\u001b[0m\u001b[0m\n\u001b[0m\u001b[1;32m    114\u001b[0m             \u001b[0;32mreturn\u001b[0m \u001b[0mwrapper\u001b[0m\u001b[0;34m\u001b[0m\u001b[0;34m\u001b[0m\u001b[0m\n\u001b[1;32m    115\u001b[0m \u001b[0;34m\u001b[0m\u001b[0m\n",
            "\u001b[0;32m/usr/local/lib/python3.7/dist-packages/torch/autograd/grad_mode.py\u001b[0m in \u001b[0;36mdecorate_context\u001b[0;34m(*args, **kwargs)\u001b[0m\n\u001b[1;32m     25\u001b[0m         \u001b[0;32mdef\u001b[0m \u001b[0mdecorate_context\u001b[0m\u001b[0;34m(\u001b[0m\u001b[0;34m*\u001b[0m\u001b[0margs\u001b[0m\u001b[0;34m,\u001b[0m \u001b[0;34m**\u001b[0m\u001b[0mkwargs\u001b[0m\u001b[0;34m)\u001b[0m\u001b[0;34m:\u001b[0m\u001b[0;34m\u001b[0m\u001b[0;34m\u001b[0m\u001b[0m\n\u001b[1;32m     26\u001b[0m             \u001b[0;32mwith\u001b[0m \u001b[0mself\u001b[0m\u001b[0;34m.\u001b[0m\u001b[0mclone\u001b[0m\u001b[0;34m(\u001b[0m\u001b[0;34m)\u001b[0m\u001b[0;34m:\u001b[0m\u001b[0;34m\u001b[0m\u001b[0;34m\u001b[0m\u001b[0m\n\u001b[0;32m---> 27\u001b[0;31m                 \u001b[0;32mreturn\u001b[0m \u001b[0mfunc\u001b[0m\u001b[0;34m(\u001b[0m\u001b[0;34m*\u001b[0m\u001b[0margs\u001b[0m\u001b[0;34m,\u001b[0m \u001b[0;34m**\u001b[0m\u001b[0mkwargs\u001b[0m\u001b[0;34m)\u001b[0m\u001b[0;34m\u001b[0m\u001b[0;34m\u001b[0m\u001b[0m\n\u001b[0m\u001b[1;32m     28\u001b[0m         \u001b[0;32mreturn\u001b[0m \u001b[0mcast\u001b[0m\u001b[0;34m(\u001b[0m\u001b[0mF\u001b[0m\u001b[0;34m,\u001b[0m \u001b[0mdecorate_context\u001b[0m\u001b[0;34m)\u001b[0m\u001b[0;34m\u001b[0m\u001b[0;34m\u001b[0m\u001b[0m\n\u001b[1;32m     29\u001b[0m \u001b[0;34m\u001b[0m\u001b[0m\n",
            "\u001b[0;32m/usr/local/lib/python3.7/dist-packages/torch/optim/adam.py\u001b[0m in \u001b[0;36mstep\u001b[0;34m(self, closure)\u001b[0m\n\u001b[1;32m    169\u001b[0m                  \u001b[0mmaximize\u001b[0m\u001b[0;34m=\u001b[0m\u001b[0mgroup\u001b[0m\u001b[0;34m[\u001b[0m\u001b[0;34m'maximize'\u001b[0m\u001b[0;34m]\u001b[0m\u001b[0;34m,\u001b[0m\u001b[0;34m\u001b[0m\u001b[0;34m\u001b[0m\u001b[0m\n\u001b[1;32m    170\u001b[0m                  \u001b[0mforeach\u001b[0m\u001b[0;34m=\u001b[0m\u001b[0mgroup\u001b[0m\u001b[0;34m[\u001b[0m\u001b[0;34m'foreach'\u001b[0m\u001b[0;34m]\u001b[0m\u001b[0;34m,\u001b[0m\u001b[0;34m\u001b[0m\u001b[0;34m\u001b[0m\u001b[0m\n\u001b[0;32m--> 171\u001b[0;31m                  capturable=group['capturable'])\n\u001b[0m\u001b[1;32m    172\u001b[0m \u001b[0;34m\u001b[0m\u001b[0m\n\u001b[1;32m    173\u001b[0m         \u001b[0;32mreturn\u001b[0m \u001b[0mloss\u001b[0m\u001b[0;34m\u001b[0m\u001b[0;34m\u001b[0m\u001b[0m\n",
            "\u001b[0;32m/usr/local/lib/python3.7/dist-packages/torch/optim/adam.py\u001b[0m in \u001b[0;36madam\u001b[0;34m(params, grads, exp_avgs, exp_avg_sqs, max_exp_avg_sqs, state_steps, foreach, capturable, amsgrad, beta1, beta2, lr, weight_decay, eps, maximize)\u001b[0m\n\u001b[1;32m    224\u001b[0m          \u001b[0meps\u001b[0m\u001b[0;34m=\u001b[0m\u001b[0meps\u001b[0m\u001b[0;34m,\u001b[0m\u001b[0;34m\u001b[0m\u001b[0;34m\u001b[0m\u001b[0m\n\u001b[1;32m    225\u001b[0m          \u001b[0mmaximize\u001b[0m\u001b[0;34m=\u001b[0m\u001b[0mmaximize\u001b[0m\u001b[0;34m,\u001b[0m\u001b[0;34m\u001b[0m\u001b[0;34m\u001b[0m\u001b[0m\n\u001b[0;32m--> 226\u001b[0;31m          capturable=capturable)\n\u001b[0m\u001b[1;32m    227\u001b[0m \u001b[0;34m\u001b[0m\u001b[0m\n\u001b[1;32m    228\u001b[0m \u001b[0;34m\u001b[0m\u001b[0m\n",
            "\u001b[0;32m/usr/local/lib/python3.7/dist-packages/torch/optim/adam.py\u001b[0m in \u001b[0;36m_single_tensor_adam\u001b[0;34m(params, grads, exp_avgs, exp_avg_sqs, max_exp_avg_sqs, state_steps, amsgrad, beta1, beta2, lr, weight_decay, eps, maximize, capturable)\u001b[0m\n\u001b[1;32m    260\u001b[0m \u001b[0;34m\u001b[0m\u001b[0m\n\u001b[1;32m    261\u001b[0m         \u001b[0;31m# Decay the first and second moment running average coefficient\u001b[0m\u001b[0;34m\u001b[0m\u001b[0;34m\u001b[0m\u001b[0;34m\u001b[0m\u001b[0m\n\u001b[0;32m--> 262\u001b[0;31m         \u001b[0mexp_avg\u001b[0m\u001b[0;34m.\u001b[0m\u001b[0mmul_\u001b[0m\u001b[0;34m(\u001b[0m\u001b[0mbeta1\u001b[0m\u001b[0;34m)\u001b[0m\u001b[0;34m.\u001b[0m\u001b[0madd_\u001b[0m\u001b[0;34m(\u001b[0m\u001b[0mgrad\u001b[0m\u001b[0;34m,\u001b[0m \u001b[0malpha\u001b[0m\u001b[0;34m=\u001b[0m\u001b[0;36m1\u001b[0m \u001b[0;34m-\u001b[0m \u001b[0mbeta1\u001b[0m\u001b[0;34m)\u001b[0m\u001b[0;34m\u001b[0m\u001b[0;34m\u001b[0m\u001b[0m\n\u001b[0m\u001b[1;32m    263\u001b[0m         \u001b[0mexp_avg_sq\u001b[0m\u001b[0;34m.\u001b[0m\u001b[0mmul_\u001b[0m\u001b[0;34m(\u001b[0m\u001b[0mbeta2\u001b[0m\u001b[0;34m)\u001b[0m\u001b[0;34m.\u001b[0m\u001b[0maddcmul_\u001b[0m\u001b[0;34m(\u001b[0m\u001b[0mgrad\u001b[0m\u001b[0;34m,\u001b[0m \u001b[0mgrad\u001b[0m\u001b[0;34m.\u001b[0m\u001b[0mconj\u001b[0m\u001b[0;34m(\u001b[0m\u001b[0;34m)\u001b[0m\u001b[0;34m,\u001b[0m \u001b[0mvalue\u001b[0m\u001b[0;34m=\u001b[0m\u001b[0;36m1\u001b[0m \u001b[0;34m-\u001b[0m \u001b[0mbeta2\u001b[0m\u001b[0;34m)\u001b[0m\u001b[0;34m\u001b[0m\u001b[0;34m\u001b[0m\u001b[0m\n\u001b[1;32m    264\u001b[0m \u001b[0;34m\u001b[0m\u001b[0m\n",
            "\u001b[0;31mKeyboardInterrupt\u001b[0m: "
          ]
        }
      ],
      "source": [
        "best_test_loss = float('inf')\n",
        "\n",
        "for e in range(N_EPOCHS):\n",
        "\n",
        "    train_loss = train()\n",
        "    #test_loss = test()\n",
        "\n",
        "    train_loss /= len(train_dataset)\n",
        "    #test_loss /= len(test_dataset)\n",
        "\n",
        "    print(f'Epoch {e}, Train Loss: {train_loss:.2f}')\n",
        "\n",
        "'''\n",
        "    if best_test_loss > test_loss:\n",
        "        best_test_loss = test_loss\n",
        "        patience_counter = 1\n",
        "    else:\n",
        "        patience_counter += 1\n",
        "\n",
        "    if patience_counter > 3:\n",
        "        break\n",
        "'''"
      ]
    },
    {
      "cell_type": "code",
      "execution_count": null,
      "metadata": {
        "scrolled": true,
        "colab": {
          "base_uri": "https://localhost:8080/",
          "height": 321
        },
        "id": "qCEyOgthQxIi",
        "outputId": "cd1cb0f9-85cf-4f14-d30e-b5ae328db398"
      },
      "outputs": [
        {
          "output_type": "display_data",
          "data": {
            "text/plain": [
              "<Figure size 360x360 with 16 Axes>"
            ],
            "image/png": "[encoded data removed]"
          },
          "metadata": {
            "needs_background": "light"
          }
        }
      ],
      "source": [
        "# sample and generate images\n",
        "\n",
        "images = []\n",
        "for i in range(16):\n",
        "    z = torch.randn(1, LATENT_DIM).to(device)\n",
        "    reconstructed_img = model.dec(z)\n",
        "    img = reconstructed_img.view(m,n).data\n",
        "    images.append(img)\n",
        "    \n",
        "fig, axes = plt.subplots(figsize = (5,5), nrows=4, ncols=4, sharey=True, sharex=True)\n",
        "for ax, img in zip(axes.flatten(), images):\n",
        "    im = ax.imshow(img, cmap='gray')"
      ]
    },
    {
      "cell_type": "code",
      "execution_count": null,
      "metadata": {
        "id": "N3lXFiT7QxIi"
      },
      "outputs": [],
      "source": []
    },
    {
      "cell_type": "code",
      "execution_count": null,
      "metadata": {
        "id": "QAnxKNtCQxIj"
      },
      "outputs": [],
      "source": []
    }
  ],
  "metadata": {
    "kernelspec": {
      "display_name": "Python 3",
      "language": "python",
      "name": "python3"
    },
    "language_info": {
      "codemirror_mode": {
        "name": "ipython",
        "version": 3
      },
      "file_extension": ".py",
      "mimetype": "text/x-python",
      "name": "python",
      "nbconvert_exporter": "python",
      "pygments_lexer": "ipython3",
      "version": "3.7.6"
    },
    "colab": {
      "provenance": []
    },
    "accelerator": "GPU",
    "gpuClass": "standard"
  },
  "nbformat": 4,
  "nbformat_minor": 0
}